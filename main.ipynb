{
 "cells": [
  {
   "cell_type": "markdown",
   "source": [
    "# 使用sklearn库完成20类新闻文本分类"
   ],
   "metadata": {
    "collapsed": false
   },
   "id": "b6ee693afa358fe"
  },
  {
   "cell_type": "markdown",
   "source": [
    "### 1.导入相关库"
   ],
   "metadata": {
    "collapsed": false
   },
   "id": "7c78388110cf6477"
  },
  {
   "cell_type": "code",
   "outputs": [],
   "source": [
    "# 数据集\n",
    "from sklearn.datasets import fetch_20newsgroups\n",
    "from sklearn.feature_extraction.text import TfidfVectorizer\n",
    "from sklearn.model_selection import train_test_split\n",
    "# 神经网络模型\n",
    "from sklearn.neural_network import MLPClassifier\n",
    "# 模型评估\n",
    "from sklearn.metrics import accuracy_score\n",
    "# 保存模型\n",
    "import joblib\n",
    "# 数据绘制\n",
    "import matplotlib.pyplot as plt\n",
    "%matplotlib inline\n",
    "# 系统相关\n",
    "import os"
   ],
   "metadata": {
    "collapsed": false,
    "ExecuteTime": {
     "end_time": "2024-10-15T14:54:17.784719Z",
     "start_time": "2024-10-15T14:54:16.144328Z"
    }
   },
   "id": "956e4c5d4d5808a1",
   "execution_count": 2
  },
  {
   "cell_type": "markdown",
   "source": [
    "### 2.加载数据集"
   ],
   "metadata": {
    "collapsed": false
   },
   "id": "c6d64ab97a66c1ef"
  },
  {
   "cell_type": "code",
   "outputs": [],
   "source": [
    "# 加载所有数据集(原始数据)\n",
    "newsgroups = fetch_20newsgroups(subset='all')\n",
    "# 提取特征(文本信息转换为向量特征)\n",
    "vectorizer = TfidfVectorizer()  # TF-IDF特征提取器\n",
    "X = vectorizer.fit_transform(newsgroups.data)\n",
    "# 划分训练集和测试集\n",
    "X_train, X_test, y_train, y_test = train_test_split(\n",
    "    X, newsgroups.target, test_size=0.25, random_state=42)"
   ],
   "metadata": {
    "collapsed": false,
    "ExecuteTime": {
     "end_time": "2024-10-15T14:54:51.923835Z",
     "start_time": "2024-10-15T14:54:47.541729Z"
    }
   },
   "id": "37fbeaaa56277d2b",
   "execution_count": 3
  },
  {
   "cell_type": "markdown",
   "source": [
    "观察数据集内容"
   ],
   "metadata": {
    "collapsed": false
   },
   "id": "df726dbddb056b5a"
  },
  {
   "cell_type": "code",
   "outputs": [
    {
     "data": {
      "text/plain": "\"From: Mamatha Devineni Ratnam <mr47+@andrew.cmu.edu>\\nSubject: Pens fans reactions\\nOrganization: Post Office, Carnegie Mellon, Pittsburgh, PA\\nLines: 12\\nNNTP-Posting-Host: po4.andrew.cmu.edu\\n\\n\\n\\nI am sure some bashers of Pens fans are pretty confused about the lack\\nof any kind of posts about the recent Pens massacre of the Devils. Actually,\\nI am  bit puzzled too and a bit relieved. However, I am going to put an end\\nto non-PIttsburghers' relief with a bit of praise for the Pens. Man, they\\nare killing those Devils worse than I thought. Jagr just showed you why\\nhe is much better than his regular season stats. He is also a lot\\nfo fun to watch in the playoffs. Bowman should let JAgr have a lot of\\nfun in the next couple of games since the Pens are going to beat the pulp out of Jersey anyway. I was very disappointed not to see the Islanders lose the final\\nregular season game.          PENS RULE!!!\\n\\n\""
     },
     "execution_count": 16,
     "metadata": {},
     "output_type": "execute_result"
    }
   ],
   "source": [
    "newsgroups.data[0]  # 第一条新闻内容"
   ],
   "metadata": {
    "collapsed": false,
    "ExecuteTime": {
     "end_time": "2024-10-15T15:06:26.886668Z",
     "start_time": "2024-10-15T15:06:26.873665Z"
    }
   },
   "id": "e544c887198d59cd",
   "execution_count": 16
  },
  {
   "cell_type": "code",
   "outputs": [
    {
     "data": {
      "text/plain": "['alt.atheism',\n 'comp.graphics',\n 'comp.os.ms-windows.misc',\n 'comp.sys.ibm.pc.hardware',\n 'comp.sys.mac.hardware',\n 'comp.windows.x',\n 'misc.forsale',\n 'rec.autos',\n 'rec.motorcycles',\n 'rec.sport.baseball',\n 'rec.sport.hockey',\n 'sci.crypt',\n 'sci.electronics',\n 'sci.med',\n 'sci.space',\n 'soc.religion.christian',\n 'talk.politics.guns',\n 'talk.politics.mideast',\n 'talk.politics.misc',\n 'talk.religion.misc']"
     },
     "execution_count": 14,
     "metadata": {},
     "output_type": "execute_result"
    }
   ],
   "source": [
    "list(newsgroups.target_names)  # 所有类别名称，共20类"
   ],
   "metadata": {
    "collapsed": false,
    "ExecuteTime": {
     "end_time": "2024-10-15T15:05:25.036242Z",
     "start_time": "2024-10-15T15:05:25.016241Z"
    }
   },
   "id": "673f5cf9707f43e4",
   "execution_count": 14
  },
  {
   "cell_type": "code",
   "outputs": [
    {
     "data": {
      "text/plain": "(18846,)"
     },
     "execution_count": 20,
     "metadata": {},
     "output_type": "execute_result"
    }
   ],
   "source": [
    "newsgroups.target.shape  # 18000条新闻数据"
   ],
   "metadata": {
    "collapsed": false,
    "ExecuteTime": {
     "end_time": "2024-10-15T15:08:04.103532Z",
     "start_time": "2024-10-15T15:08:04.096537Z"
    }
   },
   "id": "72db0170fb57d007",
   "execution_count": 20
  },
  {
   "cell_type": "markdown",
   "source": [
    "观察数据集格式"
   ],
   "metadata": {
    "collapsed": false
   },
   "id": "2cb115d82a91396f"
  },
  {
   "cell_type": "code",
   "outputs": [
    {
     "data": {
      "text/plain": "(18846, 173762)"
     },
     "execution_count": 21,
     "metadata": {},
     "output_type": "execute_result"
    }
   ],
   "source": [
    "X.shape  # 18000条新闻数据，每个数据包含10000个特征"
   ],
   "metadata": {
    "collapsed": false,
    "ExecuteTime": {
     "end_time": "2024-10-15T15:42:08.519087Z",
     "start_time": "2024-10-15T15:42:08.512082Z"
    }
   },
   "id": "4ae45dbfb3e92a83",
   "execution_count": 21
  },
  {
   "cell_type": "markdown",
   "source": [
    "### 3.构建模型"
   ],
   "metadata": {
    "collapsed": false
   },
   "id": "1b960ada9807b2e7"
  },
  {
   "cell_type": "code",
   "outputs": [],
   "source": [
    "# 加载已有模型\n",
    "if os.path.exists('mlp_42_27.pkl'):\n",
    "    mlp = joblib.load('mlp_42_27.pkl')\n",
    "else:  # 创建分类神经网络模型\n",
    "    mlp = MLPClassifier(hidden_layer_sizes=(100,),  # 隐藏层神经元数目 1层 100个\n",
    "                        max_iter=5,  # 最大迭代次数\n",
    "                        activation='relu',  # 激活函数 默认为relu\n",
    "                        solver='adam',  # 优化算法 默认为adam\n",
    "                        batch_size='auto',  # 批处理大小 默认为'auto'\n",
    "                        verbose=1,  # 显示信息 10次显示一次\n",
    "                        learning_rate_init=0.001,  # 学习率 默认为0.001\n",
    "                        early_stopping=True,  # 是否使用早停 默认为False\n",
    "                        validation_fraction=0.1,  # 验证集比例 默认为0.1 用于计算模型性能判断是否早停\n",
    "                        n_iter_no_change=10,  # 早停轮数 默认为10 次数内准确率不变则停止训练\n",
    "                        tol=1e-4,  # 误差最小值 默认为1e-4\n",
    "                        random_state=42,)"
   ],
   "metadata": {
    "collapsed": false,
    "ExecuteTime": {
     "end_time": "2024-10-14T15:46:00.086425Z",
     "start_time": "2024-10-14T15:45:59.903347Z"
    }
   },
   "id": "48233536bf6b2052",
   "execution_count": 12
  },
  {
   "cell_type": "markdown",
   "source": [
    "### 4.训练模型"
   ],
   "metadata": {
    "collapsed": false
   },
   "id": "d7089694a2214aea"
  },
  {
   "cell_type": "code",
   "outputs": [
    {
     "name": "stderr",
     "output_type": "stream",
     "text": [
      "E:\\ProgramData\\anaconda3\\envs\\TextClassification\\lib\\site-packages\\sklearn\\neural_network\\_multilayer_perceptron.py:697: UserWarning: Training interrupted by user.\n",
      "  warnings.warn(\"Training interrupted by user.\")\n",
      "\n",
      "KeyboardInterrupt\n",
      "\n"
     ]
    }
   ],
   "source": [
    "# 训练模型\n",
    "# mlp.fit(X_train, y_train)\n",
    "# 保存模型\n",
    "joblib.dump(mlp, 'newsgroups_mlp.pkl')"
   ],
   "metadata": {
    "collapsed": false,
    "ExecuteTime": {
     "end_time": "2024-10-14T15:44:32.345283Z",
     "start_time": "2024-10-14T15:44:28.334373Z"
    }
   },
   "id": "db99d1fa45b15543",
   "execution_count": 10
  },
  {
   "cell_type": "markdown",
   "source": [
    "### 5.绘制数据"
   ],
   "metadata": {
    "collapsed": false
   },
   "id": "b2306d1e27fbd687"
  },
  {
   "cell_type": "code",
   "outputs": [
    {
     "data": {
      "text/plain": "<Figure size 800x800 with 1 Axes>",
      "image/png": "[encoded data removed]"
     },
     "metadata": {},
     "output_type": "display_data"
    }
   ],
   "source": [
    "# 数据绘制\n",
    "losses = mlp.loss_curve_\n",
    "plt.figure(figsize=(8, 8))  # 设置画布大小，画面异常时更改\n",
    "plt.plot(losses)\n",
    "plt.title('Training Loss')\n",
    "plt.xlabel('Epochs')\n",
    "plt.ylabel('Loss')\n",
    "plt.savefig('images/training_loss_42_27.png')\n",
    "plt.show()"
   ],
   "metadata": {
    "collapsed": false,
    "ExecuteTime": {
     "end_time": "2024-10-14T15:47:39.223399Z",
     "start_time": "2024-10-14T15:47:39.067367Z"
    }
   },
   "id": "4bf35cb32a5f0f99",
   "execution_count": 13
  },
  {
   "cell_type": "markdown",
   "source": [
    "### 6.测试模型"
   ],
   "metadata": {
    "collapsed": false
   },
   "id": "f9aa626d134232dc"
  },
  {
   "cell_type": "code",
   "outputs": [
    {
     "name": "stdout",
     "output_type": "stream",
     "text": [
      "Predicted labels:\n",
      " [ 9 12 14 ...  9  3  8]\n",
      "True labels:\n",
      " [ 9 12 14 ...  9  3  8]\n",
      "Accuracy: 92.57%\n"
     ]
    }
   ],
   "source": [
    "# 预测测试集\n",
    "y_pred = mlp.predict(X_test)\n",
    "# 打印对比预测结果和实际结果\n",
    "print(\"Predicted labels:\\n\", y_pred)\n",
    "print(\"True labels:\\n\", y_test)\n",
    "# 计算准确率\n",
    "accuracy = accuracy_score(y_test, y_pred)\n",
    "print(\"Accuracy: {:.2f}%\".format(accuracy * 100))"
   ],
   "metadata": {
    "collapsed": false,
    "ExecuteTime": {
     "end_time": "2024-10-14T15:48:43.625757Z",
     "start_time": "2024-10-14T15:48:43.527737Z"
    }
   },
   "id": "7382de720f585590",
   "execution_count": 14
  }
 ],
 "metadata": {
  "kernelspec": {
   "display_name": "Python 3",
   "language": "python",
   "name": "python3"
  },
  "language_info": {
   "codemirror_mode": {
    "name": "ipython",
    "version": 2
   },
   "file_extension": ".py",
   "mimetype": "text/x-python",
   "name": "python",
   "nbconvert_exporter": "python",
   "pygments_lexer": "ipython2",
   "version": "2.7.6"
  }
 },
 "nbformat": 4,
 "nbformat_minor": 5
}
